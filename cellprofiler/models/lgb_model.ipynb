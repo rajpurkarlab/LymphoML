{
 "cells": [
  {
   "cell_type": "code",
   "execution_count": 72,
   "id": "c385dad4",
   "metadata": {},
   "outputs": [],
   "source": [
    "import copy\n",
    "import json\n",
    "import lightgbm as lgb\n",
    "import numpy as np\n",
    "import os\n",
    "import pandas as pd\n",
    "import pprint\n",
    "import shap\n",
    "import sys\n",
    "\n",
    "from collections import Counter\n",
    "from sklearn.metrics import classification_report\n",
    "from sklearn.model_selection import KFold, StratifiedKFold\n",
    "from sklearn.preprocessing import StandardScaler\n",
    "from sklearn.utils import compute_class_weight\n",
    "\n",
    "sys.path.insert(0, os.path.join(os.getcwd()))\n",
    "from model_utils import *\n",
    "\n",
    "pp = pprint.PrettyPrinter(indent=4)"
   ]
  },
  {
   "cell_type": "markdown",
   "id": "b448b84e",
   "metadata": {},
   "source": [
    "## Read Config"
   ]
  },
  {
   "cell_type": "code",
   "execution_count": 73,
   "id": "7a12f7f5",
   "metadata": {},
   "outputs": [],
   "source": [
    "config_path = '../../config/config.json'\n",
    "with open(config_path, \"r\") as cnf:\n",
    "    config = json.load(cnf)"
   ]
  },
  {
   "cell_type": "markdown",
   "id": "ab4e7b77",
   "metadata": {},
   "source": [
    "## Configure Model Settings"
   ]
  },
  {
   "cell_type": "code",
   "execution_count": 74,
   "id": "bf4e81fb",
   "metadata": {},
   "outputs": [],
   "source": [
    "enable_dlbcl_classification = False\n",
    "enable_label_grouping = False\n",
    "enable_normalization = True\n",
    "\n",
    "NUM_CLASSES = 9\n",
    "label_mapping = {i : i for i in range(9)}\n",
    "if enable_dlbcl_classification:\n",
    "    # For DLBCL vs non-DLBCL.\n",
    "    label_mapping = {0 : 0, # DLBCL -> DLBCL, Agg BCL (0)\n",
    "                     1 : 1, # HL -> non-DLBCL (1)\n",
    "                     2 : 0, # Agg BCL -> DLBCL, Agg BCL (0)\n",
    "                     3 : 1, # FL -> non-DLBCL (1)\n",
    "                     4 : 1, # MCL -> non-DLBCL (1)\n",
    "                     5 : 1, # MZL -> non-DLBCL (1)\n",
    "                     6 : 1, # TCL -> non-DLBCL (1)\n",
    "                     7 : 1, # NKTCL -> non-DLBCL (1)\n",
    "                     8 : 1} # Nonmalignant -> non-DLBCL (1)\n",
    "    NUM_CLASSES = 2\n",
    "if enable_label_grouping:\n",
    "    # For label grouping experiments.\n",
    "    label_mapping = {0 : 0, # DLBCL -> DLBCL, Agg BCL (0)\n",
    "                     1 : 1, # HL -> HL (1)\n",
    "                     2 : 0, # Agg BCL -> DLBCL, Agg BCL (0)\n",
    "                     3 : 2, # FL -> CLL, FL, MZL (2)\n",
    "                     4 : 3, # MCL -> MCL (3)\n",
    "                     5 : 2, # MZL -> CLL, FL, MZL (2)\n",
    "                     6 : 4, # TCL -> TCL (4)\n",
    "                     7 : 4, # NKTCL -> NKTCL (4)\n",
    "                     8 : 5} # Nonmalignant -> (5) \n",
    "    NUM_CLASSES = 6\n",
    "\n",
    "def group_labels(label):\n",
    "    return label_mapping[label]\n",
    "\n",
    "SAVE_DATA = False\n",
    "MODEL_SAVE_PATH = os.path.join(config[\"predictions\"], \"section_1_1_nuclei.csv\")"
   ]
  },
  {
   "cell_type": "markdown",
   "id": "d1c9ed98",
   "metadata": {},
   "source": [
    "## Constants"
   ]
  },
  {
   "cell_type": "code",
   "execution_count": 75,
   "id": "919b0f1a",
   "metadata": {},
   "outputs": [],
   "source": [
    "PATH_TO_DATA_SPLITS = config[\"data_splits\"]\n",
    "\n",
    "STARDIST_PATCH_NUM = 4\n",
    "if enable_dlbcl_classification:\n",
    "    STARDIST_PATCH_NUM = 49 # 9 worked well with DLBCL vs non-DLBCL when we put Agg BCL along with non-DLBCL\n",
    "    \n",
    "PATH_TO_CELLPROFILER_SPLITS_OUTPUT = os.path.join(PATH_TO_DATA_SPLITS, f\"custom_splits/cellprofiler/stardist_patch_num={STARDIST_PATCH_NUM}\")\n",
    "\n",
    "PATH_TO_TRAIN = os.path.join(PATH_TO_CELLPROFILER_SPLITS_OUTPUT, \"train.csv\")\n",
    "PATH_TO_VAL = os.path.join(PATH_TO_CELLPROFILER_SPLITS_OUTPUT, \"val.csv\")\n",
    "PATH_TO_TEST = os.path.join(PATH_TO_CELLPROFILER_SPLITS_OUTPUT, \"test.csv\")"
   ]
  },
  {
   "cell_type": "markdown",
   "id": "7c9f062a",
   "metadata": {},
   "source": [
    "## Read Data"
   ]
  },
  {
   "cell_type": "code",
   "execution_count": 76,
   "id": "98c6e74a",
   "metadata": {},
   "outputs": [],
   "source": [
    "def convert_to_patient_id(image):\n",
    "    return \"_\".join(image.split(\"-\")[0].split(\"_\")[:-1])"
   ]
  },
  {
   "cell_type": "code",
   "execution_count": 77,
   "id": "e7cb1e71",
   "metadata": {},
   "outputs": [],
   "source": [
    "train_features_df = pd.read_csv(PATH_TO_TRAIN)\n",
    "train_features_df[\"patient_id\"] = train_features_df[\"Image\"].apply(convert_to_patient_id)\n",
    "\n",
    "val_features_df = pd.read_csv(PATH_TO_VAL)\n",
    "val_features_df[\"patient_id\"] = val_features_df[\"Image\"].apply(convert_to_patient_id)\n",
    "\n",
    "test_features_df = pd.read_csv(PATH_TO_TEST)\n",
    "test_features_df[\"patient_id\"] = test_features_df[\"Image\"].apply(convert_to_patient_id)"
   ]
  },
  {
   "cell_type": "code",
   "execution_count": 78,
   "id": "4bb70748",
   "metadata": {},
   "outputs": [],
   "source": [
    "columns = list(train_features_df.columns)\n",
    "columns_to_remove = [\"Image\", \"patient_id\", \"tma_id\", \"label\", \"split\", \"NormalizedMoment\", \"count\",\n",
    "                     \"Unnamed\", \"nucleiObjectNumber\", \"cytoplasmObjectNumber\"]\n",
    "for column_name in columns_to_remove:\n",
    "    columns = list(filter(lambda col: not(column_name in col), columns))\n",
    "all_features = columns"
   ]
  },
  {
   "cell_type": "markdown",
   "id": "d9479e80",
   "metadata": {},
   "source": [
    "## Get Features of Type"
   ]
  },
  {
   "cell_type": "code",
   "execution_count": 79,
   "id": "ae76b17c",
   "metadata": {},
   "outputs": [],
   "source": [
    "feature_types = set(list(map(lambda s : s.split(\"_\")[0], all_features)))"
   ]
  },
  {
   "cell_type": "code",
   "execution_count": 80,
   "id": "9a01ab18",
   "metadata": {},
   "outputs": [],
   "source": [
    "nuclei_features = get_nuclei_morphological_features(all_features)\n",
    "nuclei_intensity_features = get_nuclei_intensity_features(all_features)\n",
    "nuclei_cyto_features = get_nuclei_cytoplasm_morphological_features(all_features)"
   ]
  },
  {
   "cell_type": "code",
   "execution_count": 81,
   "id": "a680d65b",
   "metadata": {},
   "outputs": [],
   "source": [
    "## TODO(vishankar): This should be a configurable parameter (which features to use).\n",
    "if not enable_dlbcl_classification and not enable_label_grouping:\n",
    "    all_features = nuclei_features"
   ]
  },
  {
   "cell_type": "markdown",
   "id": "be782d95",
   "metadata": {},
   "source": [
    "## Setup Data Splits"
   ]
  },
  {
   "cell_type": "code",
   "execution_count": 83,
   "id": "2d872be6",
   "metadata": {},
   "outputs": [],
   "source": [
    "(train_proc_features_df, val_proc_features_df, test_proc_features_df) = get_processed_df_splits(train_features_df, val_features_df,\n",
    "                                                                                                test_features_df, all_features, group_labels)\n",
    "(X_train, y_train, X_test, y_test, scaler) = get_splits(train_features_df, val_features_df, test_features_df, all_features, group_labels, enable_normalization)"
   ]
  },
  {
   "cell_type": "code",
   "execution_count": 84,
   "id": "172a3a82",
   "metadata": {},
   "outputs": [],
   "source": [
    "train_df = pd.concat([train_proc_features_df, val_proc_features_df]).reset_index(drop=True)\n",
    "test_df = test_proc_features_df"
   ]
  },
  {
   "cell_type": "markdown",
   "id": "6bab3e4c",
   "metadata": {},
   "source": [
    "## Train/Eval Models"
   ]
  },
  {
   "cell_type": "markdown",
   "id": "96942d9b",
   "metadata": {},
   "source": [
    "### Parameters"
   ]
  },
  {
   "cell_type": "code",
   "execution_count": 85,
   "id": "aea0cdc2",
   "metadata": {},
   "outputs": [],
   "source": [
    "classes = list(range(NUM_CLASSES))\n",
    "class_weight = compute_class_weight('balanced', classes=classes, y=y_train)\n",
    "class_weight_dict = dict(zip(classes, class_weight))"
   ]
  },
  {
   "cell_type": "code",
   "execution_count": 86,
   "id": "0729fa80",
   "metadata": {},
   "outputs": [
    {
     "data": {
      "text/plain": [
       "{0, 1, 2, 3, 4, 5, 6, 7, 8}"
      ]
     },
     "execution_count": 86,
     "metadata": {},
     "output_type": "execute_result"
    }
   ],
   "source": [
    "set(y_train)"
   ]
  },
  {
   "cell_type": "markdown",
   "id": "af96207a",
   "metadata": {},
   "source": [
    "### Sklearn LGBM Classifier"
   ]
  },
  {
   "cell_type": "code",
   "execution_count": 87,
   "id": "02d1dc41",
   "metadata": {},
   "outputs": [
    {
     "name": "stdout",
     "output_type": "stream",
     "text": [
      "PATCH Training accuracy: 1.0, Test accuracy: 0.5290697674418605\n"
     ]
    }
   ],
   "source": [
    "model = lgb.LGBMClassifier(class_weight=\"balanced\", n_estimators=1000, max_depth=20)\n",
    "model.fit(X_train, y_train)\n",
    "train_preds_patch = model.predict(X_train)\n",
    "test_preds_patch = model.predict(X_test)\n",
    "\n",
    "train_accuracy_patch = compute_accuracy(train_preds_patch, y_train)\n",
    "test_accuracy_patch = compute_accuracy(test_preds_patch, y_test)\n",
    "print(f\"PATCH Training accuracy: {train_accuracy_patch}, Test accuracy: {test_accuracy_patch}\")"
   ]
  },
  {
   "cell_type": "code",
   "execution_count": 88,
   "id": "e66438d2",
   "metadata": {},
   "outputs": [
    {
     "name": "stdout",
     "output_type": "stream",
     "text": [
      "CORE Training Accuracy: 1.0, Test accuracy: 0.5813953488372093\n"
     ]
    }
   ],
   "source": [
    "(y_train_core, train_preds_core, train_accuracy_core) = get_core_metrics(train_df, train_preds_patch)\n",
    "(y_test_core, test_preds_core, test_accuracy_core) = get_core_metrics(test_df, test_preds_patch)\n",
    "print(f\"CORE Training Accuracy: {train_accuracy_core}, Test accuracy: {test_accuracy_core}\")"
   ]
  },
  {
   "cell_type": "markdown",
   "id": "28a887b9",
   "metadata": {},
   "source": [
    "## LightGBM Train API"
   ]
  },
  {
   "cell_type": "code",
   "execution_count": 89,
   "id": "a2beff29",
   "metadata": {},
   "outputs": [],
   "source": [
    "lgbtrain = lgb.Dataset(X_train, y_train, free_raw_data=True)\n",
    "lgbeval = lgb.Dataset(X_test, y_test)\n",
    "\n",
    "params = {'learning_rate': 0.1,\n",
    "          'num_boost_round':100,\n",
    "          'num_class':NUM_CLASSES,\n",
    "          'max_depth':-1,\n",
    "          'num_leaves':15,\n",
    "          'verbose': -1}"
   ]
  },
  {
   "cell_type": "code",
   "execution_count": 90,
   "id": "ffd8e73f",
   "metadata": {},
   "outputs": [
    {
     "name": "stderr",
     "output_type": "stream",
     "text": [
      "Found `num_boost_round` in params. Will use it instead of argument\n",
      "'verbose_eval' argument is deprecated and will be removed in a future release of LightGBM. Pass 'log_evaluation()' callback via 'callbacks' argument instead.\n"
     ]
    }
   ],
   "source": [
    "alpha = class_weight / sum(class_weight)\n",
    "\n",
    "focal_loss = lambda x,y: focal_loss_lgb(x, y, alpha, 2., NUM_CLASSES)\n",
    "eval_error = lambda x,y: focal_loss_lgb_eval_error(x, y, alpha, 2., NUM_CLASSES)\n",
    "\n",
    "model = lgb.train(params, lgbtrain, valid_sets=[lgbeval], fobj=focal_loss,\n",
    "                  feval=[eval_metric(NUM_CLASSES), eval_error],\n",
    "                  verbose_eval=False)"
   ]
  },
  {
   "cell_type": "markdown",
   "id": "815ae35a",
   "metadata": {},
   "source": [
    "### Patch-Level Metrics"
   ]
  },
  {
   "cell_type": "code",
   "execution_count": 91,
   "id": "d9aaaf05",
   "metadata": {},
   "outputs": [
    {
     "name": "stdout",
     "output_type": "stream",
     "text": [
      "PATCH Training Accuracy: 0.9658320292123109, Test accuracy: 0.501937984496124\n"
     ]
    }
   ],
   "source": [
    "train_preds_patch = get_lgb_preds(model, X_train)\n",
    "train_accuracy_patch = accuracy_score(y_train, train_preds_patch)\n",
    "test_preds_patch = get_lgb_preds(model, X_test)\n",
    "test_accuracy_patch = accuracy_score(y_test, test_preds_patch)\n",
    "\n",
    "print(f\"PATCH Training Accuracy: {train_accuracy_patch}, Test accuracy: {test_accuracy_patch}\")"
   ]
  },
  {
   "cell_type": "code",
   "execution_count": 92,
   "id": "3fce306a",
   "metadata": {},
   "outputs": [
    {
     "data": {
      "image/png": "[encoded data removed]",
      "text/plain": [
       "<Figure size 576x576 with 2 Axes>"
      ]
     },
     "metadata": {
      "needs_background": "light"
     },
     "output_type": "display_data"
    }
   ],
   "source": [
    "cnf_matrix = confusion_matrix(y_test, test_preds_patch)\n",
    "plot_confusion_matrix(cnf_matrix, NUM_CLASSES)"
   ]
  },
  {
   "cell_type": "markdown",
   "id": "b730bda5",
   "metadata": {},
   "source": [
    "### Core-Level Metrics"
   ]
  },
  {
   "cell_type": "code",
   "execution_count": 93,
   "id": "237b72d7",
   "metadata": {},
   "outputs": [
    {
     "name": "stdout",
     "output_type": "stream",
     "text": [
      "CORE Training Accuracy: 0.9852941176470589, Test accuracy: 0.5968992248062015\n"
     ]
    }
   ],
   "source": [
    "(y_train_core, train_preds_core, train_accuracy_core) = get_core_metrics(train_df, train_preds_patch)\n",
    "(y_test_core, test_preds_core, test_accuracy_core) = get_core_metrics(test_df, test_preds_patch)\n",
    "print(f\"CORE Training Accuracy: {train_accuracy_core}, Test accuracy: {test_accuracy_core}\")"
   ]
  },
  {
   "cell_type": "code",
   "execution_count": 94,
   "id": "7015ff41",
   "metadata": {},
   "outputs": [
    {
     "name": "stdout",
     "output_type": "stream",
     "text": [
      "CORE Training Accuracy: 0.9894957983193278, Test accuracy: 0.5891472868217055\n"
     ]
    }
   ],
   "source": [
    "train_pred_probs = get_lgb_pred_probs(model, X_train)\n",
    "test_pred_probs = get_lgb_pred_probs(model, X_test)\n",
    "\n",
    "(y_train_core, train_preds_core, train_accuracy_core) = get_core_metrics_mean(train_df, train_pred_probs, NUM_CLASSES)\n",
    "(y_test_core, test_preds_core, test_accuracy_core) = get_core_metrics_mean(test_df, test_pred_probs, NUM_CLASSES)\n",
    "print(f\"CORE Training Accuracy: {train_accuracy_core}, Test accuracy: {test_accuracy_core}\")"
   ]
  },
  {
   "cell_type": "code",
   "execution_count": 95,
   "id": "3740c3ef",
   "metadata": {
    "scrolled": true
   },
   "outputs": [
    {
     "data": {
      "image/png": "[encoded data removed]",
      "text/plain": [
       "<Figure size 576x576 with 2 Axes>"
      ]
     },
     "metadata": {
      "needs_background": "light"
     },
     "output_type": "display_data"
    }
   ],
   "source": [
    "cnf_matrix = confusion_matrix(y_test_core, test_preds_core)\n",
    "plot_confusion_matrix(cnf_matrix, NUM_CLASSES)"
   ]
  },
  {
   "cell_type": "code",
   "execution_count": 96,
   "id": "bab66c5c",
   "metadata": {},
   "outputs": [
    {
     "name": "stdout",
     "output_type": "stream",
     "text": [
      "Training Accuracy: 0.9894957983193278, Test accuracy: 0.5891472868217055\n",
      "{   'cnf_matrix': array([[45,  4,  0,  3,  1,  0,  2,  1,  0],\n",
      "       [ 1, 16,  0,  1,  1,  0,  1,  0,  0],\n",
      "       [ 1,  0,  0,  0,  1,  0,  0,  0,  0],\n",
      "       [ 1,  3,  0,  3,  3,  3,  0,  0,  0],\n",
      "       [ 3,  0,  0,  1,  9,  0,  1,  0,  0],\n",
      "       [ 0,  2,  0,  1,  1,  1,  0,  0,  0],\n",
      "       [ 8,  0,  0,  0,  0,  0,  2,  0,  0],\n",
      "       [ 4,  3,  0,  0,  0,  1,  0,  0,  0],\n",
      "       [ 0,  1,  0,  0,  0,  0,  0,  0,  0]]),\n",
      "    'macro_f1': 0.30356566869171914,\n",
      "    'micro_f1': 0.5891472868217055,\n",
      "    'test_acc': 0.5891472868217055,\n",
      "    'train_acc': 0.9894957983193278,\n",
      "    'weighted_f1': 0.5492993814862098}\n"
     ]
    }
   ],
   "source": [
    "test_df[\"test_preds\"] = test_preds_patch\n",
    "print(f'''Training Accuracy: {train_accuracy_core}, Test accuracy: {test_accuracy_core}''')\n",
    "(macro_f1, micro_f1, weighted_f1) = get_f1_scores(y_test_core, test_preds_core)\n",
    "cnf_matrix = get_confusion_matrix(y_test_core, test_preds_core)\n",
    "test_metrics = build_metrics_dict(False, train_accuracy_core, test_accuracy_core, \n",
    "                                  macro_f1, micro_f1, weighted_f1, cnf_matrix)\n",
    "pp.pprint(test_metrics)"
   ]
  },
  {
   "cell_type": "markdown",
   "id": "0ac67548",
   "metadata": {},
   "source": [
    "### Patch-Based Quality Control Threshold (PQC) "
   ]
  },
  {
   "cell_type": "code",
   "execution_count": 99,
   "id": "6b70089f",
   "metadata": {},
   "outputs": [],
   "source": [
    "label_cols = [str(x) for x in range(NUM_CLASSES)]\n",
    "test_pred_probs_df = pd.DataFrame(test_pred_probs, columns=label_cols)\n",
    "test_pred_probs_df = pd.concat([test_df[[\"patient_id\", \"label\"]], test_pred_probs_df], axis=1)              "
   ]
  },
  {
   "cell_type": "code",
   "execution_count": 100,
   "id": "80ed0d5d",
   "metadata": {},
   "outputs": [],
   "source": [
    "PQC_THRESHOLD = 0.7\n",
    "if enable_dlbcl_classification:\n",
    "    PQC_THRESHOLD = 0.9"
   ]
  },
  {
   "cell_type": "markdown",
   "id": "9d266ade",
   "metadata": {},
   "source": [
    "#### Patch-Level Metrics"
   ]
  },
  {
   "cell_type": "code",
   "execution_count": 101,
   "id": "0ec62f2b",
   "metadata": {},
   "outputs": [
    {
     "name": "stdout",
     "output_type": "stream",
     "text": [
      "PATCH Test accuracy: 108 / 134 = 0.8059701492537313\n"
     ]
    }
   ],
   "source": [
    "def get_pqc_patch_accuracy():\n",
    "    num_correct, num_total = 0, 0\n",
    "    for (test_pred_probs_i, y_test_i) in zip(test_pred_probs, y_test):\n",
    "        if max(test_pred_probs_i) <= PQC_THRESHOLD:\n",
    "            continue\n",
    "        if test_pred_probs_i.argmax() == y_test_i:\n",
    "            num_correct += 1\n",
    "        num_total += 1\n",
    "    print(f\"PATCH Test accuracy: {num_correct} / {num_total} = {num_correct / num_total}\")\n",
    "\n",
    "get_pqc_patch_accuracy()"
   ]
  },
  {
   "cell_type": "markdown",
   "id": "edf25868",
   "metadata": {},
   "source": [
    "#### Core-Level Metrics"
   ]
  },
  {
   "cell_type": "code",
   "execution_count": 102,
   "id": "6dc7d24b",
   "metadata": {},
   "outputs": [],
   "source": [
    "def build_pqc_maps():\n",
    "    # Returns: \n",
    "    # 1) Map from patient ID to ground-truth label\n",
    "    # 2) Map from patient ID to list of predictions (one for each patch with max_prob >= threshold)\n",
    "    patient_to_label = dict()\n",
    "    patient_to_preds = dict()\n",
    "    for index, row in test_pred_probs_df.iterrows():\n",
    "        patient_id = row[\"patient_id\"]\n",
    "        label = row[\"label\"]\n",
    "        if patient_id in patient_to_label:\n",
    "            assert(patient_to_label[patient_id] == label)\n",
    "        else:\n",
    "            patient_to_label[patient_id] = label\n",
    "\n",
    "        max_prob = max(row[label_cols])\n",
    "        if max_prob <= PQC_THRESHOLD:\n",
    "            continue\n",
    "        pred = np.argmax(row[label_cols])\n",
    "        if patient_id not in patient_to_preds:\n",
    "            patient_to_preds[patient_id] = []\n",
    "        patient_to_preds[patient_id].append(pred)\n",
    "    return patient_to_label, patient_to_preds\n",
    "\n",
    "patient_to_label, patient_to_preds = build_pqc_maps()"
   ]
  },
  {
   "cell_type": "code",
   "execution_count": 103,
   "id": "81ba3133",
   "metadata": {},
   "outputs": [
    {
     "name": "stdout",
     "output_type": "stream",
     "text": [
      "CORE Test accuracy: 41 / 54 = 0.7592592592592593\n"
     ]
    }
   ],
   "source": [
    "def get_pqc_core_accuracy(patient_to_label, patient_to_preds):\n",
    "    y_true = []\n",
    "    y_pred = []\n",
    "    num_correct, num_total = 0, 0\n",
    "    for patient_id, label in patient_to_label.items():\n",
    "        if patient_id not in patient_to_preds:\n",
    "            continue\n",
    "        preds = patient_to_preds[patient_id]\n",
    "        pred = pd.Series.mode(preds)[0]\n",
    "        if label == pred:\n",
    "            num_correct += 1\n",
    "        num_total += 1\n",
    "        y_pred.append(pred)\n",
    "        y_true.append(label)\n",
    "    print(f\"CORE Test accuracy: {num_correct} / {num_total} = {num_correct / num_total}\")\n",
    "    return (y_pred, y_true)\n",
    "\n",
    "y_pred, y_true = get_pqc_core_accuracy(patient_to_label, patient_to_preds)"
   ]
  },
  {
   "cell_type": "markdown",
   "id": "846a815e",
   "metadata": {},
   "source": [
    "## Save Model Outputs on Test Set"
   ]
  },
  {
   "cell_type": "code",
   "execution_count": 28,
   "id": "2b8ee2ed",
   "metadata": {},
   "outputs": [],
   "source": [
    "model_df = pd.concat([y_test_core, test_preds_core], axis=1).reset_index()\n",
    "model_df.columns = [\"patient_id\", \"label\", \"prediction\"]\n",
    "if SAVE_DATA:\n",
    "    model_df.to_csv(MODEL_SAVE_PATH)"
   ]
  },
  {
   "cell_type": "markdown",
   "id": "656ae853",
   "metadata": {},
   "source": [
    "## Classification Report"
   ]
  },
  {
   "cell_type": "code",
   "execution_count": 107,
   "id": "9e900d38",
   "metadata": {},
   "outputs": [
    {
     "name": "stdout",
     "output_type": "stream",
     "text": [
      "              precision    recall  f1-score   support\n",
      "\n",
      "       DLBCL       0.71      0.80      0.76        56\n",
      "          HL       0.55      0.80      0.65        20\n",
      "     Agg BCL       0.00      0.00      0.00         2\n",
      "          FL       0.33      0.23      0.27        13\n",
      "         MCL       0.56      0.64      0.60        14\n",
      "         MZL       0.20      0.20      0.20         5\n",
      "       NKTCL       0.33      0.20      0.25        10\n",
      "         TCL       0.00      0.00      0.00         8\n",
      "Nonmalignant       0.00      0.00      0.00         1\n",
      "\n",
      "    accuracy                           0.59       129\n",
      "   macro avg       0.30      0.32      0.30       129\n",
      "weighted avg       0.52      0.59      0.55       129\n",
      "\n"
     ]
    },
    {
     "name": "stderr",
     "output_type": "stream",
     "text": [
      "Precision and F-score are ill-defined and being set to 0.0 in labels with no predicted samples. Use `zero_division` parameter to control this behavior.\n",
      "Precision and F-score are ill-defined and being set to 0.0 in labels with no predicted samples. Use `zero_division` parameter to control this behavior.\n",
      "Precision and F-score are ill-defined and being set to 0.0 in labels with no predicted samples. Use `zero_division` parameter to control this behavior.\n"
     ]
    }
   ],
   "source": [
    "## Create classification report, with test accuracy and weighted F1 per class.\n",
    "target_names = ['DLBCL', 'HL', 'Agg BCL', 'FL', 'MCL', 'MZL', 'NKTCL', 'TCL', 'Nonmalignant']\n",
    "print(classification_report(y_test_core, test_preds_core, target_names=target_names))"
   ]
  },
  {
   "cell_type": "markdown",
   "id": "58fa11fc",
   "metadata": {},
   "source": [
    "## Cross Validation"
   ]
  },
  {
   "cell_type": "markdown",
   "id": "52cafb4a",
   "metadata": {},
   "source": [
    "### Cross-Validation Utilities"
   ]
  },
  {
   "cell_type": "code",
   "execution_count": 115,
   "id": "cca8f3ea",
   "metadata": {},
   "outputs": [],
   "source": [
    "def get_cv_processed_df_splits(feature_cols, train_df, val_df):\n",
    "    train_df = train_df[feature_cols + [\"patient_id\", \"label\"]].dropna().reset_index(drop=True)\n",
    "    val_df = val_df[feature_cols + [\"patient_id\", \"label\"]].dropna().reset_index(drop=True)\n",
    "    return (train_df, val_df)\n",
    "\n",
    "def get_cv_splits_from_df(feature_cols, train_df, val_df):\n",
    "    X_train = train_df[feature_cols].astype(np.float32)\n",
    "    y_train = train_df[\"label\"]\n",
    "    X_val = val_df[feature_cols].astype(np.float32)\n",
    "    y_val = val_df[\"label\"]\n",
    "    \n",
    "    scaler = StandardScaler()\n",
    "    scaler.fit(X_train)\n",
    "    X_train = scaler.transform(X_train)\n",
    "    X_val = scaler.transform(X_val)\n",
    "    return (X_train, y_train, X_val, y_val)\n",
    "\n",
    "def setup_cv_splits(X_patients, y_patients, train_idx, val_idx):\n",
    "    train_patients = X_patients[train_idx]\n",
    "    val_patients = X_patients[val_idx]\n",
    "    cv_train_df = train_df.loc[train_df['patient_id'].isin(train_patients)]\n",
    "    cv_val_df = train_df.loc[train_df['patient_id'].isin(val_patients)]\n",
    "    (cv_train_df, cv_val_df) = get_cv_processed_df_splits(all_features, cv_train_df, cv_val_df)\n",
    "    (X_train, y_train, X_val, y_val) = get_cv_splits_from_df(all_features, cv_train_df, cv_val_df)\n",
    "    return X_train, y_train, X_val, y_val, cv_train_df, cv_val_df\n",
    "        \n",
    "def compute_metrics(model, cv_val_df, X_val, y_val):\n",
    "    val_preds_patch = get_lgb_preds(model, X_val)\n",
    "    val_accuracy_patch = accuracy_score(y_val, val_preds_patch)\n",
    "    (macro_f1_patch, micro_f1_patch, weighted_f1_patch) = get_f1_scores(y_val, val_preds_patch)\n",
    "    (y_val_core, val_preds_core, val_accuracy_core) = get_core_metrics(cv_val_df, val_preds_patch)\n",
    "    (macro_f1_core, micro_f1_core, weighted_f1_core) = get_f1_scores(y_val_core, val_preds_core)  \n",
    "    return (val_accuracy_patch, val_accuracy_core, weighted_f1_patch, weighted_f1_core)"
   ]
  },
  {
   "cell_type": "markdown",
   "id": "c9be1d97",
   "metadata": {},
   "source": [
    "### Get Lists of All Patients and their Labels in Training Set"
   ]
  },
  {
   "cell_type": "code",
   "execution_count": 116,
   "id": "6bb82ef1",
   "metadata": {},
   "outputs": [],
   "source": [
    "train_df = pd.concat([train_features_df, val_features_df]).reset_index(drop=True)\n",
    "train_df[\"patient_id\"] = train_df[\"Image\"].apply(convert_to_patient_id)\n",
    "\n",
    "train_patients = train_df[\"patient_id\"]\n",
    "train_labels = train_df[\"label\"]"
   ]
  },
  {
   "cell_type": "code",
   "execution_count": 117,
   "id": "419d1721",
   "metadata": {},
   "outputs": [],
   "source": [
    "X_patients = []\n",
    "y_patients = []\n",
    "seen_patients = set()\n",
    "for patient, label in zip(train_patients, train_labels):\n",
    "    if patient in seen_patients:\n",
    "        continue\n",
    "    X_patients.append(patient)\n",
    "    y_patients.append(label)\n",
    "    seen_patients.add(patient)\n",
    "X_patients = np.array(X_patients)\n",
    "y_patients = np.array(y_patients)"
   ]
  },
  {
   "cell_type": "markdown",
   "id": "1ea94000",
   "metadata": {},
   "source": [
    "### Setup Parameters"
   ]
  },
  {
   "cell_type": "code",
   "execution_count": 118,
   "id": "c0a4de1e",
   "metadata": {},
   "outputs": [],
   "source": [
    "class_weight = compute_class_weight('balanced', classes=classes, y=y_patients)\n",
    "alpha = class_weight / sum(class_weight)\n",
    "\n",
    "focal_loss = lambda x,y: focal_loss_lgb(x, y, alpha, 2., NUM_CLASSES)\n",
    "eval_error = lambda x,y: focal_loss_lgb_eval_error(x, y, alpha, 2., NUM_CLASSES)"
   ]
  },
  {
   "cell_type": "markdown",
   "id": "94a40a65",
   "metadata": {},
   "source": [
    "### Run Cross Validation"
   ]
  },
  {
   "cell_type": "code",
   "execution_count": 119,
   "id": "e2aeedee",
   "metadata": {},
   "outputs": [
    {
     "name": "stderr",
     "output_type": "stream",
     "text": [
      "The least populated class in y has only 2 members, which is less than n_splits=5.\n",
      "Found `num_boost_round` in params. Will use it instead of argument\n",
      "'verbose_eval' argument is deprecated and will be removed in a future release of LightGBM. Pass 'log_evaluation()' callback via 'callbacks' argument instead.\n",
      "Found `num_boost_round` in params. Will use it instead of argument\n",
      "'verbose_eval' argument is deprecated and will be removed in a future release of LightGBM. Pass 'log_evaluation()' callback via 'callbacks' argument instead.\n",
      "Found `num_boost_round` in params. Will use it instead of argument\n",
      "'verbose_eval' argument is deprecated and will be removed in a future release of LightGBM. Pass 'log_evaluation()' callback via 'callbacks' argument instead.\n",
      "Found `num_boost_round` in params. Will use it instead of argument\n",
      "'verbose_eval' argument is deprecated and will be removed in a future release of LightGBM. Pass 'log_evaluation()' callback via 'callbacks' argument instead.\n",
      "Found `num_boost_round` in params. Will use it instead of argument\n",
      "'verbose_eval' argument is deprecated and will be removed in a future release of LightGBM. Pass 'log_evaluation()' callback via 'callbacks' argument instead.\n"
     ]
    },
    {
     "name": "stdout",
     "output_type": "stream",
     "text": [
      "Val patch scores:  [0.4774436090225564, 0.4607329842931937, 0.525065963060686, 0.5261044176706827, 0.4915254237288136]\n",
      "Val patch f1 scores:  [0.4680932837336687, 0.4381670872554969, 0.5154220106257119, 0.506675280780431, 0.4766329848960644]\n",
      "Val core scores:  [0.53125, 0.5157894736842106, 0.5789473684210527, 0.6210526315789474, 0.5684210526315789]\n",
      "Val core f1 scores:  [0.4954290714159135, 0.4759699911482594, 0.543859649122807, 0.5705515059596858, 0.5370454613073847]\n",
      "Average Val patch score:  0.49617447955518645\n",
      "Average Val core score:  0.5630921052631579\n",
      "Average Val patch f1 score:  0.48099812945827464\n",
      "Average Val core f1 score:  0.52457113579081\n"
     ]
    }
   ],
   "source": [
    "def run_cv(num_folds=5, debug=True):\n",
    "    folds = StratifiedKFold(num_folds, shuffle=True, random_state=0)\n",
    "    val_patch_scores, val_core_scores = [], []\n",
    "    val_patch_f1_scores, val_core_f1_scores = [], []\n",
    "\n",
    "    for train_idx, val_idx in folds.split(X_patients, y_patients):\n",
    "        ## Setup Cross-Val Data Splits\n",
    "        X_train, y_train, X_val, y_val, cv_train_df, cv_val_df = setup_cv_splits(X_patients, y_patients, train_idx, val_idx)\n",
    "\n",
    "        ## Train and Evaluate LightGBM Model\n",
    "        lgbtrain = lgb.Dataset(X_train, y_train)\n",
    "        lgbeval = lgb.Dataset(X_val, y_val)\n",
    "        model = lgb.train(params, lgbtrain, valid_sets=[lgbeval],\n",
    "                          fobj=focal_loss,feval=[eval_metric(NUM_CLASSES), eval_error],\n",
    "                          verbose_eval=False)\n",
    "\n",
    "        ## Get Predictions and Compute Metrics\n",
    "        val_accuracy_patch, val_accuracy_core, weighted_f1_patch, weighted_f1_core = compute_metrics(model, cv_val_df, X_val, y_val)\n",
    "        val_patch_scores.append(val_accuracy_patch)\n",
    "        val_core_scores.append(val_accuracy_core)\n",
    "        val_patch_f1_scores.append(weighted_f1_patch)\n",
    "        val_core_f1_scores.append(weighted_f1_core)\n",
    "\n",
    "    ## Print Outputs\n",
    "    if debug:\n",
    "        print('Val patch scores: ', val_patch_scores)\n",
    "        print('Val patch f1 scores: ', val_patch_f1_scores)\n",
    "        print('Val core scores: ', val_core_scores)\n",
    "        print('Val core f1 scores: ', val_core_f1_scores)\n",
    "        print('Average Val patch score: ', np.mean(np.array(val_patch_scores)))\n",
    "        print('Average Val core score: ', np.mean(np.array(val_core_scores)))\n",
    "        print('Average Val patch f1 score: ', np.mean(np.array(val_patch_f1_scores)))\n",
    "        print('Average Val core f1 score: ', np.mean(np.array(val_core_f1_scores)))\n",
    "    return val_core_scores, val_core_f1_scores\n",
    "\n",
    "val_core_scores, val_patch_scores = run_cv()"
   ]
  }
 ],
 "metadata": {
  "kernelspec": {
   "display_name": "Python 3 (ipykernel)",
   "language": "python",
   "name": "python3"
  },
  "language_info": {
   "codemirror_mode": {
    "name": "ipython",
    "version": 3
   },
   "file_extension": ".py",
   "mimetype": "text/x-python",
   "name": "python",
   "nbconvert_exporter": "python",
   "pygments_lexer": "ipython3",
   "version": "3.7.11"
  }
 },
 "nbformat": 4,
 "nbformat_minor": 5
}
