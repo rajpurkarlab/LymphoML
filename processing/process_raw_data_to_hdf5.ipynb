{
 "cells": [
  {
   "cell_type": "code",
   "execution_count": 8,
   "id": "ddaafcc1",
   "metadata": {},
   "outputs": [],
   "source": [
    "import glob\n",
    "import h5py\n",
    "import math\n",
    "import matplotlib.pyplot as plt\n",
    "import openslide\n",
    "import os\n",
    "import pandas as pd\n",
    "import random\n",
    "\n",
    "from data_processing import *\n",
    "from PIL import Image"
   ]
  },
  {
   "cell_type": "markdown",
   "id": "d94c1e17",
   "metadata": {},
   "source": [
    "## Constants"
   ]
  },
  {
   "cell_type": "code",
   "execution_count": 9,
   "id": "ba56093c",
   "metadata": {},
   "outputs": [],
   "source": [
    "# Paths to raw TMA files.\n",
    "PATH_TO_RAW_DATA = \"/deep/group/aihc-bootcamp-fall2021/lymphoma/raw\"\n",
    "PATH_TO_IMAGES = os.path.join(PATH_TO_RAW_DATA, \"svs\")\n",
    "\n",
    "# Path to processed data (extracted TMA patches)\n",
    "PATH_TO_PROCESSED_DATA = \"/deep/group/aihc-bootcamp-fall2021/lymphoma/processed\"\n",
    "PATH_TO_TMA_PATCHES = os.path.join(PATH_TO_PROCESSED_DATA, \"tma_patches\")\n",
    "\n",
    "# Path to annotations and labels (diagnoses)\n",
    "PATH_TO_ANNOTATIONS_CSV = os.path.join(PATH_TO_RAW_DATA, \"cores\")\n",
    "PATH_TO_DIAGNOSES = os.path.join(PATH_TO_RAW_DATA, \"core_labels.csv\")"
   ]
  },
  {
   "cell_type": "code",
   "execution_count": 10,
   "id": "91a64918",
   "metadata": {},
   "outputs": [],
   "source": [
    "# Get the list of paths to TMA svs files and TMA annotations csv files.\n",
    "# We want the tma_slides_paths[i] to correspond to tma_annotations_paths[i] (hence, the calls to \"sort\").\n",
    "tma_slides_paths = sorted(glob.glob(PATH_TO_IMAGES + \"/*_TMA*.svs\"), key= lambda s : s.split(\"_\")[1])\n",
    "tma_annotations_paths = sorted(glob.glob(PATH_TO_ANNOTATIONS_CSV + \"/TMA*_annotations.csv\"))"
   ]
  },
  {
   "cell_type": "markdown",
   "id": "2b3a5c2d",
   "metadata": {},
   "source": [
    "## Read Raw Data for all TMAs"
   ]
  },
  {
   "cell_type": "code",
   "execution_count": 11,
   "id": "840a74fc",
   "metadata": {},
   "outputs": [],
   "source": [
    "tma_ids = [1, 2, 3, 4, 5, 6, 6, 8]\n",
    "tma_slides = [openslide.OpenSlide(tma_slide) for tma_slide in tma_slides_paths]\n",
    "tma_annotations = [pd.read_csv(filename) for filename in tma_annotations_paths]"
   ]
  },
  {
   "cell_type": "code",
   "execution_count": 12,
   "id": "53245505",
   "metadata": {},
   "outputs": [
    {
     "data": {
      "text/html": [
       "<div>\n",
       "<style scoped>\n",
       "    .dataframe tbody tr th:only-of-type {\n",
       "        vertical-align: middle;\n",
       "    }\n",
       "\n",
       "    .dataframe tbody tr th {\n",
       "        vertical-align: top;\n",
       "    }\n",
       "\n",
       "    .dataframe thead th {\n",
       "        text-align: right;\n",
       "    }\n",
       "</style>\n",
       "<table border=\"1\" class=\"dataframe\">\n",
       "  <thead>\n",
       "    <tr style=\"text-align: right;\">\n",
       "      <th></th>\n",
       "      <th>Unnamed: 0</th>\n",
       "      <th>TMA ID</th>\n",
       "      <th>CASE</th>\n",
       "      <th>2017 WHO DIAGNOSIS</th>\n",
       "      <th>CLPA Diagnostic Bin</th>\n",
       "      <th>label</th>\n",
       "    </tr>\n",
       "  </thead>\n",
       "  <tbody>\n",
       "    <tr>\n",
       "      <th>0</th>\n",
       "      <td>0</td>\n",
       "      <td>1</td>\n",
       "      <td>E0001 B</td>\n",
       "      <td>NOT ON TMA</td>\n",
       "      <td>Excluded</td>\n",
       "      <td>-1</td>\n",
       "    </tr>\n",
       "    <tr>\n",
       "      <th>1</th>\n",
       "      <td>1</td>\n",
       "      <td>1</td>\n",
       "      <td>E0002 B</td>\n",
       "      <td>NON-DIAGNOSTIC</td>\n",
       "      <td>Excluded</td>\n",
       "      <td>-1</td>\n",
       "    </tr>\n",
       "    <tr>\n",
       "      <th>2</th>\n",
       "      <td>2</td>\n",
       "      <td>1</td>\n",
       "      <td>E0003 B</td>\n",
       "      <td>Classic Hodgkin Lymphoma</td>\n",
       "      <td>HL</td>\n",
       "      <td>1</td>\n",
       "    </tr>\n",
       "    <tr>\n",
       "      <th>3</th>\n",
       "      <td>3</td>\n",
       "      <td>1</td>\n",
       "      <td>E0004 B</td>\n",
       "      <td>Follicular lymphoma, grade 1-2</td>\n",
       "      <td>FL</td>\n",
       "      <td>3</td>\n",
       "    </tr>\n",
       "    <tr>\n",
       "      <th>4</th>\n",
       "      <td>4</td>\n",
       "      <td>1</td>\n",
       "      <td>E0005 B</td>\n",
       "      <td>Diffuse large B cell lymphoma, NOS</td>\n",
       "      <td>DLBCL</td>\n",
       "      <td>0</td>\n",
       "    </tr>\n",
       "  </tbody>\n",
       "</table>\n",
       "</div>"
      ],
      "text/plain": [
       "   Unnamed: 0  TMA ID     CASE                  2017 WHO DIAGNOSIS  \\\n",
       "0           0       1  E0001 B                          NOT ON TMA   \n",
       "1           1       1  E0002 B                      NON-DIAGNOSTIC   \n",
       "2           2       1  E0003 B            Classic Hodgkin Lymphoma   \n",
       "3           3       1  E0004 B      Follicular lymphoma, grade 1-2   \n",
       "4           4       1  E0005 B  Diffuse large B cell lymphoma, NOS   \n",
       "\n",
       "  CLPA Diagnostic Bin  label  \n",
       "0            Excluded     -1  \n",
       "1            Excluded     -1  \n",
       "2                  HL      1  \n",
       "3                  FL      3  \n",
       "4               DLBCL      0  "
      ]
     },
     "execution_count": 12,
     "metadata": {},
     "output_type": "execute_result"
    }
   ],
   "source": [
    "tma_case_to_diagnosis = pd.read_csv(PATH_TO_DIAGNOSES)\n",
    "tma_case_to_diagnosis.head()"
   ]
  },
  {
   "cell_type": "code",
   "execution_count": 13,
   "id": "0d3eb867",
   "metadata": {},
   "outputs": [
    {
     "name": "stdout",
     "output_type": "stream",
     "text": [
      "NON-DIAGNOSTIC\n",
      "Diffuse large B cell lymphoma, non-germinal center type\n"
     ]
    }
   ],
   "source": [
    "CASE = \"CASE\"\n",
    "WHO_DIAGNOSIS = \"2017 WHO DIAGNOSIS\"\n",
    "CLPA_DIAGNOSIS = \"CLPA Diagnostic Bin\"\n",
    "LABEL = \"label\"\n",
    "\n",
    "def get_field_by_patient_id(tma_id, patient_id, field):\n",
    "    missing_ids = set([\"placenta\", \"tonsil\"])\n",
    "    \n",
    "    add_b_ids = set([\"E0184\", \"E0147\", \"E0137\"])\n",
    "    add_a_ids = set([\"E0307\"])\n",
    "    \n",
    "    if patient_id in missing_ids:\n",
    "        print(f\"Could not find {field} for: {patient_id}\")\n",
    "        return None\n",
    "    elif patient_id in add_b_ids:\n",
    "        patient_id += \" B\"\n",
    "    elif patient_id in add_a_ids:\n",
    "        patient_id += \" A\"\n",
    "    elif not patient_id.rstrip()[-2].isspace() and patient_id.rstrip()[-1].isalpha():  # Add space between alphabet and number: \"E0456B\" -> \"E0456 B\"\n",
    "        patient_id = patient_id[:-1] + \" \" + patient_id[-1]\n",
    "    \n",
    "    condition = (tma_case_to_diagnosis[CASE] == patient_id) & (tma_case_to_diagnosis[\"TMA ID\"] == tma_id)\n",
    "    \n",
    "    if len(tma_case_to_diagnosis[condition][field].values) == 0:\n",
    "        print(f\"Could not find {field} for: {patient_id}\")\n",
    "        return None\n",
    "    \n",
    "    return tma_case_to_diagnosis[condition][field].values[0]\n",
    "\n",
    "print(get_field_by_patient_id(1, \"E0090 C\", WHO_DIAGNOSIS))\n",
    "print(get_field_by_patient_id(4, \"E0456 B\", WHO_DIAGNOSIS))"
   ]
  },
  {
   "cell_type": "markdown",
   "id": "cb92382e",
   "metadata": {},
   "source": [
    "## Create HDF5 file for each TMA"
   ]
  },
  {
   "cell_type": "code",
   "execution_count": 14,
   "id": "188bc0e5",
   "metadata": {
    "scrolled": true
   },
   "outputs": [
    {
     "name": "stdout",
     "output_type": "stream",
     "text": [
      "Creating HDF5 file for TMA: 1\n",
      "\n",
      "Could not find 2017 WHO DIAGNOSIS for: placenta\n",
      "Could not find CLPA Diagnostic Bin for: placenta\n",
      "Could not find label for: placenta\n",
      "Could not find 2017 WHO DIAGNOSIS for: tonsil\n",
      "Could not find CLPA Diagnostic Bin for: tonsil\n",
      "Could not find label for: tonsil\n",
      "Could not find 2017 WHO DIAGNOSIS for: tonsil\n",
      "Could not find CLPA Diagnostic Bin for: tonsil\n",
      "Could not find label for: tonsil\n",
      "Could not find 2017 WHO DIAGNOSIS for: placenta\n",
      "Could not find CLPA Diagnostic Bin for: placenta\n",
      "Could not find label for: placenta\n",
      "Creating HDF5 file for TMA: 2\n",
      "\n",
      "Could not find 2017 WHO DIAGNOSIS for: tonsil\n",
      "Could not find CLPA Diagnostic Bin for: tonsil\n",
      "Could not find label for: tonsil\n",
      "Could not find 2017 WHO DIAGNOSIS for: tonsil\n",
      "Could not find CLPA Diagnostic Bin for: tonsil\n",
      "Could not find label for: tonsil\n",
      "Could not find 2017 WHO DIAGNOSIS for: placenta\n",
      "Could not find CLPA Diagnostic Bin for: placenta\n",
      "Could not find label for: placenta\n",
      "Could not find 2017 WHO DIAGNOSIS for: placenta\n",
      "Could not find CLPA Diagnostic Bin for: placenta\n",
      "Could not find label for: placenta\n"
     ]
    },
    {
     "ename": "OSError",
     "evalue": "Can't prepare for writing data (file write failed: time = Sun May  1 15:41:07 2022\n, filename = 'tma2.hdf5', file descriptor = 58, errno = 5, error message = 'Input/output error', buf = 0x55c26fab79d0, total write size = 12644352, bytes this sub-write = 12644352, bytes actually written = 18446744073709551615, offset = 2886532352)",
     "output_type": "error",
     "traceback": [
      "\u001b[0;31m---------------------------------------------------------------------------\u001b[0m",
      "\u001b[0;31mOSError\u001b[0m                                   Traceback (most recent call last)",
      "\u001b[0;32m/tmp/ipykernel_310277/2462742492.py\u001b[0m in \u001b[0;36m<module>\u001b[0;34m\u001b[0m\n\u001b[1;32m     55\u001b[0m         \u001b[0mtma_to_hdf5_file\u001b[0m\u001b[0;34m(\u001b[0m\u001b[0mtma_id\u001b[0m\u001b[0;34m,\u001b[0m \u001b[0mtma_annotations\u001b[0m\u001b[0;34m[\u001b[0m\u001b[0mi\u001b[0m\u001b[0;34m]\u001b[0m\u001b[0;34m,\u001b[0m \u001b[0mtma_slides\u001b[0m\u001b[0;34m[\u001b[0m\u001b[0mi\u001b[0m\u001b[0;34m]\u001b[0m\u001b[0;34m)\u001b[0m\u001b[0;34m\u001b[0m\u001b[0;34m\u001b[0m\u001b[0m\n\u001b[1;32m     56\u001b[0m \u001b[0;34m\u001b[0m\u001b[0m\n\u001b[0;32m---> 57\u001b[0;31m \u001b[0mextract_raw_data_to_hdf5\u001b[0m\u001b[0;34m(\u001b[0m\u001b[0mtma_ids\u001b[0m\u001b[0;34m,\u001b[0m \u001b[0mtma_slides\u001b[0m\u001b[0;34m,\u001b[0m \u001b[0mtma_annotations\u001b[0m\u001b[0;34m)\u001b[0m\u001b[0;34m\u001b[0m\u001b[0;34m\u001b[0m\u001b[0m\n\u001b[0m",
      "\u001b[0;32m/tmp/ipykernel_310277/2462742492.py\u001b[0m in \u001b[0;36mextract_raw_data_to_hdf5\u001b[0;34m(tma_ids, tma_slides, tma_annotations)\u001b[0m\n\u001b[1;32m     53\u001b[0m         \u001b[0mtma_id\u001b[0m \u001b[0;34m=\u001b[0m \u001b[0mtma_ids\u001b[0m\u001b[0;34m[\u001b[0m\u001b[0mi\u001b[0m\u001b[0;34m]\u001b[0m\u001b[0;34m\u001b[0m\u001b[0;34m\u001b[0m\u001b[0m\n\u001b[1;32m     54\u001b[0m         \u001b[0mprint\u001b[0m\u001b[0;34m(\u001b[0m\u001b[0;34mf\"Creating HDF5 file for TMA: {tma_id}\\n\"\u001b[0m\u001b[0;34m)\u001b[0m\u001b[0;34m\u001b[0m\u001b[0;34m\u001b[0m\u001b[0m\n\u001b[0;32m---> 55\u001b[0;31m         \u001b[0mtma_to_hdf5_file\u001b[0m\u001b[0;34m(\u001b[0m\u001b[0mtma_id\u001b[0m\u001b[0;34m,\u001b[0m \u001b[0mtma_annotations\u001b[0m\u001b[0;34m[\u001b[0m\u001b[0mi\u001b[0m\u001b[0;34m]\u001b[0m\u001b[0;34m,\u001b[0m \u001b[0mtma_slides\u001b[0m\u001b[0;34m[\u001b[0m\u001b[0mi\u001b[0m\u001b[0;34m]\u001b[0m\u001b[0;34m)\u001b[0m\u001b[0;34m\u001b[0m\u001b[0;34m\u001b[0m\u001b[0m\n\u001b[0m\u001b[1;32m     56\u001b[0m \u001b[0;34m\u001b[0m\u001b[0m\n\u001b[1;32m     57\u001b[0m \u001b[0mextract_raw_data_to_hdf5\u001b[0m\u001b[0;34m(\u001b[0m\u001b[0mtma_ids\u001b[0m\u001b[0;34m,\u001b[0m \u001b[0mtma_slides\u001b[0m\u001b[0;34m,\u001b[0m \u001b[0mtma_annotations\u001b[0m\u001b[0;34m)\u001b[0m\u001b[0;34m\u001b[0m\u001b[0;34m\u001b[0m\u001b[0m\n",
      "\u001b[0;32m/tmp/ipykernel_310277/2462742492.py\u001b[0m in \u001b[0;36mtma_to_hdf5_file\u001b[0;34m(tma_id, tma_annotations, tma_slide)\u001b[0m\n\u001b[1;32m     38\u001b[0m             \u001b[0;32mcontinue\u001b[0m\u001b[0;34m\u001b[0m\u001b[0;34m\u001b[0m\u001b[0m\n\u001b[1;32m     39\u001b[0m \u001b[0;34m\u001b[0m\u001b[0m\n\u001b[0;32m---> 40\u001b[0;31m         \u001b[0mdset\u001b[0m \u001b[0;34m=\u001b[0m \u001b[0mf\u001b[0m\u001b[0;34m.\u001b[0m\u001b[0mcreate_dataset\u001b[0m\u001b[0;34m(\u001b[0m\u001b[0mname\u001b[0m\u001b[0;34m,\u001b[0m \u001b[0mdata\u001b[0m\u001b[0;34m=\u001b[0m\u001b[0mpatches\u001b[0m\u001b[0;34m,\u001b[0m \u001b[0mdtype\u001b[0m\u001b[0;34m=\u001b[0m\u001b[0;34m'uint8'\u001b[0m\u001b[0;34m)\u001b[0m\u001b[0;34m\u001b[0m\u001b[0;34m\u001b[0m\u001b[0m\n\u001b[0m\u001b[1;32m     41\u001b[0m         \u001b[0mdset\u001b[0m\u001b[0;34m.\u001b[0m\u001b[0mattrs\u001b[0m\u001b[0;34m[\u001b[0m\u001b[0;34m'tma_id'\u001b[0m\u001b[0;34m]\u001b[0m \u001b[0;34m=\u001b[0m \u001b[0mtma_id\u001b[0m\u001b[0;34m\u001b[0m\u001b[0;34m\u001b[0m\u001b[0m\n\u001b[1;32m     42\u001b[0m         \u001b[0mdset\u001b[0m\u001b[0;34m.\u001b[0m\u001b[0mattrs\u001b[0m\u001b[0;34m[\u001b[0m\u001b[0;34m'patient_id'\u001b[0m\u001b[0;34m]\u001b[0m \u001b[0;34m=\u001b[0m \u001b[0mpatient_id\u001b[0m\u001b[0;34m\u001b[0m\u001b[0;34m\u001b[0m\u001b[0m\n",
      "\u001b[0;32m/deep/u/vivek96/miniconda3/envs/aihc-vivek/lib/python3.7/site-packages/h5py/_hl/group.py\u001b[0m in \u001b[0;36mcreate_dataset\u001b[0;34m(self, name, shape, dtype, data, **kwds)\u001b[0m\n\u001b[1;32m    114\u001b[0m         \"\"\"\n\u001b[1;32m    115\u001b[0m         \u001b[0;32mwith\u001b[0m \u001b[0mphil\u001b[0m\u001b[0;34m:\u001b[0m\u001b[0;34m\u001b[0m\u001b[0;34m\u001b[0m\u001b[0m\n\u001b[0;32m--> 116\u001b[0;31m             \u001b[0mdsid\u001b[0m \u001b[0;34m=\u001b[0m \u001b[0mdataset\u001b[0m\u001b[0;34m.\u001b[0m\u001b[0mmake_new_dset\u001b[0m\u001b[0;34m(\u001b[0m\u001b[0mself\u001b[0m\u001b[0;34m,\u001b[0m \u001b[0mshape\u001b[0m\u001b[0;34m,\u001b[0m \u001b[0mdtype\u001b[0m\u001b[0;34m,\u001b[0m \u001b[0mdata\u001b[0m\u001b[0;34m,\u001b[0m \u001b[0;34m**\u001b[0m\u001b[0mkwds\u001b[0m\u001b[0;34m)\u001b[0m\u001b[0;34m\u001b[0m\u001b[0;34m\u001b[0m\u001b[0m\n\u001b[0m\u001b[1;32m    117\u001b[0m             \u001b[0mdset\u001b[0m \u001b[0;34m=\u001b[0m \u001b[0mdataset\u001b[0m\u001b[0;34m.\u001b[0m\u001b[0mDataset\u001b[0m\u001b[0;34m(\u001b[0m\u001b[0mdsid\u001b[0m\u001b[0;34m)\u001b[0m\u001b[0;34m\u001b[0m\u001b[0;34m\u001b[0m\u001b[0m\n\u001b[1;32m    118\u001b[0m             \u001b[0;32mif\u001b[0m \u001b[0mname\u001b[0m \u001b[0;32mis\u001b[0m \u001b[0;32mnot\u001b[0m \u001b[0;32mNone\u001b[0m\u001b[0;34m:\u001b[0m\u001b[0;34m\u001b[0m\u001b[0;34m\u001b[0m\u001b[0m\n",
      "\u001b[0;32m/deep/u/vivek96/miniconda3/envs/aihc-vivek/lib/python3.7/site-packages/h5py/_hl/dataset.py\u001b[0m in \u001b[0;36mmake_new_dset\u001b[0;34m(parent, shape, dtype, data, chunks, compression, shuffle, fletcher32, maxshape, compression_opts, fillvalue, scaleoffset, track_times)\u001b[0m\n\u001b[1;32m    141\u001b[0m \u001b[0;34m\u001b[0m\u001b[0m\n\u001b[1;32m    142\u001b[0m     \u001b[0;32mif\u001b[0m \u001b[0;34m(\u001b[0m\u001b[0mdata\u001b[0m \u001b[0;32mis\u001b[0m \u001b[0;32mnot\u001b[0m \u001b[0;32mNone\u001b[0m\u001b[0;34m)\u001b[0m \u001b[0;32mand\u001b[0m \u001b[0;34m(\u001b[0m\u001b[0;32mnot\u001b[0m \u001b[0misinstance\u001b[0m\u001b[0;34m(\u001b[0m\u001b[0mdata\u001b[0m\u001b[0;34m,\u001b[0m \u001b[0mEmpty\u001b[0m\u001b[0;34m)\u001b[0m\u001b[0;34m)\u001b[0m\u001b[0;34m:\u001b[0m\u001b[0;34m\u001b[0m\u001b[0;34m\u001b[0m\u001b[0m\n\u001b[0;32m--> 143\u001b[0;31m         \u001b[0mdset_id\u001b[0m\u001b[0;34m.\u001b[0m\u001b[0mwrite\u001b[0m\u001b[0;34m(\u001b[0m\u001b[0mh5s\u001b[0m\u001b[0;34m.\u001b[0m\u001b[0mALL\u001b[0m\u001b[0;34m,\u001b[0m \u001b[0mh5s\u001b[0m\u001b[0;34m.\u001b[0m\u001b[0mALL\u001b[0m\u001b[0;34m,\u001b[0m \u001b[0mdata\u001b[0m\u001b[0;34m)\u001b[0m\u001b[0;34m\u001b[0m\u001b[0;34m\u001b[0m\u001b[0m\n\u001b[0m\u001b[1;32m    144\u001b[0m \u001b[0;34m\u001b[0m\u001b[0m\n\u001b[1;32m    145\u001b[0m     \u001b[0;32mreturn\u001b[0m \u001b[0mdset_id\u001b[0m\u001b[0;34m\u001b[0m\u001b[0;34m\u001b[0m\u001b[0m\n",
      "\u001b[0;32mh5py/_objects.pyx\u001b[0m in \u001b[0;36mh5py._objects.with_phil.wrapper\u001b[0;34m()\u001b[0m\n",
      "\u001b[0;32mh5py/_objects.pyx\u001b[0m in \u001b[0;36mh5py._objects.with_phil.wrapper\u001b[0;34m()\u001b[0m\n",
      "\u001b[0;32mh5py/h5d.pyx\u001b[0m in \u001b[0;36mh5py.h5d.DatasetID.write\u001b[0;34m()\u001b[0m\n",
      "\u001b[0;32mh5py/_proxy.pyx\u001b[0m in \u001b[0;36mh5py._proxy.dset_rw\u001b[0;34m()\u001b[0m\n",
      "\u001b[0;32mh5py/_proxy.pyx\u001b[0m in \u001b[0;36mh5py._proxy.H5PY_H5Dwrite\u001b[0;34m()\u001b[0m\n",
      "\u001b[0;31mOSError\u001b[0m: Can't prepare for writing data (file write failed: time = Sun May  1 15:41:07 2022\n, filename = 'tma2.hdf5', file descriptor = 58, errno = 5, error message = 'Input/output error', buf = 0x55c26fab79d0, total write size = 12644352, bytes this sub-write = 12644352, bytes actually written = 18446744073709551615, offset = 2886532352)"
     ]
    }
   ],
   "source": [
    "def tma_to_hdf5_file(tma_id, tma_annotations, tma_slide):\n",
    "    tma_hdf5_filename = f'tma{tma_id}.hdf5'\n",
    "    if os.path.exists(tma_hdf5_filename):\n",
    "        os.remove(tma_hdf5_filename)\n",
    "    f = h5py.File(tma_hdf5_filename, \"w\")\n",
    "    patient_ids = set()\n",
    "    \n",
    "    patient_id_repeats = {}\n",
    "    \n",
    "    for index, row in tma_annotations.iterrows():\n",
    "        patient_id = row[\"Name\"]\n",
    "        \n",
    "        if not isinstance(patient_id, str):\n",
    "            continue\n",
    "        \n",
    "        name = patient_id\n",
    "        \n",
    "        who_diagnosis = get_field_by_patient_id(tma_id, patient_id, WHO_DIAGNOSIS)\n",
    "        clpa_diagnosis = get_field_by_patient_id(tma_id, patient_id, CLPA_DIAGNOSIS)\n",
    "        label = get_field_by_patient_id(tma_id, patient_id, LABEL)\n",
    "        \n",
    "        if who_diagnosis == None:\n",
    "            continue\n",
    "        \n",
    "        # Deal with duplicate patients\n",
    "        if (patient_id not in patient_ids):\n",
    "            patient_id_repeats[patient_id] = 0\n",
    "\n",
    "        patient_id_repeats[patient_id] += 1\n",
    "        name += f\"_v{patient_id_repeats[patient_id]}\"\n",
    "            \n",
    "        xs, ys, width, height = int(row[\"X\"]), int(row[\"Y\"]), int(row[\"Width\"]), int(row[\"Height\"])\n",
    "        xe, ye = xs + width, ys + height\n",
    "        patches = get_patches_from_core(tma_slide, xs, ys, xe, ye)\n",
    "        \n",
    "        if patches.size == 0:\n",
    "            print(f\"No patches found for TMA: {tma_id}, Patient: {patient_id}\")\n",
    "            continue\n",
    "        \n",
    "        dset = f.create_dataset(name, data=patches, dtype='uint8')\n",
    "        dset.attrs['tma_id'] = tma_id\n",
    "        dset.attrs['patient_id'] = patient_id\n",
    "        dset.attrs['who_diagnosis'] = who_diagnosis\n",
    "        dset.attrs['clpa_diagnosis'] = clpa_diagnosis\n",
    "        dset.attrs['label'] = label\n",
    "        patient_ids.add(patient_id)\n",
    "        \n",
    "    f.close()\n",
    "\n",
    "def extract_raw_data_to_hdf5(tma_ids, tma_slides, tma_annotations):\n",
    "    assert(len(tma_slides) == len(tma_annotations))\n",
    "    for i in range(len(tma_slides)):\n",
    "        tma_id = tma_ids[i]\n",
    "        print(f\"Creating HDF5 file for TMA: {tma_id}\\n\")\n",
    "        tma_to_hdf5_file(tma_id, tma_annotations[i], tma_slides[i])\n",
    "\n",
    "extract_raw_data_to_hdf5(tma_ids, tma_slides, tma_annotations)"
   ]
  },
  {
   "cell_type": "code",
   "execution_count": null,
   "id": "6d2acce9",
   "metadata": {},
   "outputs": [],
   "source": []
  }
 ],
 "metadata": {
  "kernelspec": {
   "display_name": "Python 3 (ipykernel)",
   "language": "python",
   "name": "python3"
  },
  "language_info": {
   "codemirror_mode": {
    "name": "ipython",
    "version": 3
   },
   "file_extension": ".py",
   "mimetype": "text/x-python",
   "name": "python",
   "nbconvert_exporter": "python",
   "pygments_lexer": "ipython3",
   "version": "3.7.11"
  }
 },
 "nbformat": 4,
 "nbformat_minor": 5
}
