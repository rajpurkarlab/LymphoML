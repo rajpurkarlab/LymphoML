{
 "cells": [
  {
   "cell_type": "code",
   "execution_count": 19,
   "id": "3640c84a",
   "metadata": {},
   "outputs": [],
   "source": [
    "import glob\n",
    "import h5py\n",
    "import os\n",
    "import pandas as pd"
   ]
  },
  {
   "cell_type": "markdown",
   "id": "f837bf53",
   "metadata": {},
   "source": [
    "## Constants"
   ]
  },
  {
   "cell_type": "code",
   "execution_count": 20,
   "id": "61c1b86c",
   "metadata": {},
   "outputs": [],
   "source": [
    "# Path to TMA HDF5 files\n",
    "PATH_TO_PROCESSED_DATA = \"/deep/group/aihc-bootcamp-fall2021/lymphoma/processed\"\n",
    "PATH_TO_TMA_PATCHES = os.path.join(PATH_TO_PROCESSED_DATA, \"tma_patches\")\n",
    "\n",
    "# Path to train-val-test splits.\n",
    "PATH_TO_RAW_DATA = \"/deep/group/aihc-bootcamp-fall2021/lymphoma/raw\"\n",
    "PATH_TO_TRAIN_VAL_TEST_SPLIT = os.path.join(PATH_TO_RAW_DATA, \"custom_train_test_split.csv\")\n",
    "\n",
    "# Output files\n",
    "PATH_TO_OUTPUT = os.path.join(PATH_TO_PROCESSED_DATA, \"data_splits/custom_splits/tma_patches\")\n",
    "PATH_TO_TRAIN_DATA = os.path.join(PATH_TO_OUTPUT, \"train.hdf5\")\n",
    "PATH_TO_VAL_DATA = os.path.join(PATH_TO_OUTPUT, \"val.hdf5\")\n",
    "PATH_TO_TEST_DATA = os.path.join(PATH_TO_OUTPUT, \"test.hdf5\")"
   ]
  },
  {
   "cell_type": "markdown",
   "id": "47af3edc",
   "metadata": {},
   "source": [
    "## Read Train/Val/Test Splits"
   ]
  },
  {
   "cell_type": "code",
   "execution_count": 21,
   "id": "c3e6972c",
   "metadata": {},
   "outputs": [],
   "source": [
    "data_split_df = pd.read_csv(PATH_TO_TRAIN_VAL_TEST_SPLIT, delimiter=',')\n",
    "data_split_map = data_split_df.set_index('patient_id')['split'].to_dict()"
   ]
  },
  {
   "cell_type": "markdown",
   "id": "6f6ce580",
   "metadata": {},
   "source": [
    "## Read TMA Data"
   ]
  },
  {
   "cell_type": "code",
   "execution_count": 22,
   "id": "d68a25c4",
   "metadata": {},
   "outputs": [
    {
     "data": {
      "text/plain": [
       "['/deep/group/aihc-bootcamp-fall2021/lymphoma/processed/tma_patches/tma5.hdf5',\n",
       " '/deep/group/aihc-bootcamp-fall2021/lymphoma/processed/tma_patches/tma1.hdf5',\n",
       " '/deep/group/aihc-bootcamp-fall2021/lymphoma/processed/tma_patches/tma8.hdf5',\n",
       " '/deep/group/aihc-bootcamp-fall2021/lymphoma/processed/tma_patches/tma6b.hdf5',\n",
       " '/deep/group/aihc-bootcamp-fall2021/lymphoma/processed/tma_patches/tma4.hdf5',\n",
       " '/deep/group/aihc-bootcamp-fall2021/lymphoma/processed/tma_patches/tma2.hdf5',\n",
       " '/deep/group/aihc-bootcamp-fall2021/lymphoma/processed/tma_patches/tma6a.hdf5',\n",
       " '/deep/group/aihc-bootcamp-fall2021/lymphoma/processed/tma_patches/tma3.hdf5']"
      ]
     },
     "execution_count": 22,
     "metadata": {},
     "output_type": "execute_result"
    }
   ],
   "source": [
    "tma_hdf5_filenames = glob.glob(PATH_TO_TMA_PATCHES + \"/tma*.hdf5\")\n",
    "tma_hdf5_filenames"
   ]
  },
  {
   "cell_type": "markdown",
   "id": "a2cf4aa6",
   "metadata": {},
   "source": [
    "## Build Train/Val/Test HDF5 files"
   ]
  },
  {
   "cell_type": "code",
   "execution_count": 23,
   "id": "e3c35239",
   "metadata": {},
   "outputs": [
    {
     "name": "stdout",
     "output_type": "stream",
     "text": [
      "/deep/group/aihc-bootcamp-fall2021/lymphoma/processed/tma_patches/tma5.hdf5\n",
      "/deep/group/aihc-bootcamp-fall2021/lymphoma/processed/tma_patches/tma1.hdf5\n",
      "/deep/group/aihc-bootcamp-fall2021/lymphoma/processed/tma_patches/tma8.hdf5\n",
      "/deep/group/aihc-bootcamp-fall2021/lymphoma/processed/tma_patches/tma6b.hdf5\n",
      "/deep/group/aihc-bootcamp-fall2021/lymphoma/processed/tma_patches/tma4.hdf5\n",
      "/deep/group/aihc-bootcamp-fall2021/lymphoma/processed/tma_patches/tma2.hdf5\n",
      "/deep/group/aihc-bootcamp-fall2021/lymphoma/processed/tma_patches/tma6a.hdf5\n",
      "/deep/group/aihc-bootcamp-fall2021/lymphoma/processed/tma_patches/tma3.hdf5\n"
     ]
    }
   ],
   "source": [
    "def build_data_splits_from_hdf5_files(tma_hdf5_filenames):\n",
    "    included_patient_ids = set()\n",
    "    excluded_patient_ids = set()\n",
    "    train_f = h5py.File(PATH_TO_TRAIN_DATA, \"w\")\n",
    "    val_f = h5py.File(PATH_TO_VAL_DATA, \"w\")\n",
    "    test_f = h5py.File(PATH_TO_TEST_DATA, \"w\")\n",
    "\n",
    "    patient_ids = set()\n",
    "    patient_id_repeats = {}\n",
    "\n",
    "    for filename in tma_hdf5_filenames:\n",
    "        print(filename)\n",
    "        \n",
    "        with h5py.File(filename, \"r\") as f:\n",
    "            for patient_id in f.keys():\n",
    "                data = f[patient_id]\n",
    "                patient_id_key = patient_id.split(\"_\")[0].replace(\" \", \"\")[:5]\n",
    "                if patient_id_key not in data_split_map:\n",
    "                    excluded_patient_ids.add(patient_id_key)\n",
    "                    continue\n",
    "\n",
    "                included_patient_ids.add(patient_id_key)\n",
    "                data_split = data_split_map[patient_id_key]\n",
    "                if data_split == \"train\":\n",
    "                    out_f = train_f\n",
    "                elif data_split == \"val\":\n",
    "                    out_f = val_f\n",
    "                else:\n",
    "                    assert(data_split == \"test\")\n",
    "                    out_f = test_f\n",
    "\n",
    "                name = patient_id\n",
    "                # Deal with duplicate patients\n",
    "                if (patient_id not in patient_ids):\n",
    "                    patient_id_repeats[patient_id] = 0\n",
    "                patient_id_repeats[patient_id] += 1\n",
    "                name += f\"_v{patient_id_repeats[patient_id]}\"\n",
    "\n",
    "                dset = out_f.create_dataset(name, data=data, dtype='uint8', chunks=True)\n",
    "                dset.attrs['tma_id'] = data.attrs[\"tma_id\"]\n",
    "                dset.attrs['patient_id'] = data.attrs[\"patient_id\"]\n",
    "                dset.attrs['who_diagnosis'] = data.attrs[\"who_diagnosis\"]\n",
    "                dset.attrs['clpa_diagnosis'] = data.attrs[\"clpa_diagnosis\"]\n",
    "                dset.attrs['label'] = data.attrs[\"label\"]\n",
    "                patient_ids.add(patient_id)\n",
    "    train_f.close()\n",
    "    val_f.close()\n",
    "    test_f.close()\n",
    "    return (included_patient_ids, excluded_patient_ids)\n",
    "\n",
    "(included_patient_ids, excluded_patient_ids) = build_data_splits_from_hdf5_files(tma_hdf5_filenames)"
   ]
  },
  {
   "cell_type": "code",
   "execution_count": null,
   "id": "d9ccab9b",
   "metadata": {},
   "outputs": [],
   "source": []
  }
 ],
 "metadata": {
  "kernelspec": {
   "display_name": "Python 3 (ipykernel)",
   "language": "python",
   "name": "python3"
  },
  "language_info": {
   "codemirror_mode": {
    "name": "ipython",
    "version": 3
   },
   "file_extension": ".py",
   "mimetype": "text/x-python",
   "name": "python",
   "nbconvert_exporter": "python",
   "pygments_lexer": "ipython3",
   "version": "3.7.11"
  }
 },
 "nbformat": 4,
 "nbformat_minor": 5
}
